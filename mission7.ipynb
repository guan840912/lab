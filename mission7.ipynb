{
 "cells": [
  {
   "cell_type": "code",
   "execution_count": 2,
   "metadata": {},
   "outputs": [
    {
     "name": "stdout",
     "output_type": "stream",
     "text": [
      " * Serving Flask app \"__main__\" (lazy loading)\n",
      " * Environment: production\n",
      "   WARNING: Do not use the development server in a production environment.\n",
      "   Use a production WSGI server instead.\n",
      " * Debug mode: off\n"
     ]
    },
    {
     "name": "stderr",
     "output_type": "stream",
     "text": [
      " * Running on http://0.0.0.0:5000/ (Press CTRL+C to quit)\n",
      "192.168.114.1 - - [26/Dec/2018 08:49:12] \"GET /?userId=123 HTTP/1.1\" 200 -\n",
      "192.168.114.1 - - [26/Dec/2018 08:49:32] \"GET /?userId=456464654 HTTP/1.1\" 200 -\n"
     ]
    }
   ],
   "source": [
    "\"\"\"\n",
    "flask get結合query string\n",
    "\n",
    "使用時，查詢http://192.168.114.10:5000?hello=iii\n",
    "\n",
    "\"\"\"\n",
    "#引用套件\n",
    "from flask import Flask, request, abort, jsonify\n",
    "#flask這個應用的啟動點\n",
    "app = Flask(__name__,static_url_path = \"/images\" , static_folder = \"./images/\" )\n",
    "#為這個啟動點增加訪問路徑'/'\n",
    "@app.route('/',methods=['GET'])\n",
    "def hello_world():\n",
    "    #取用用戶的querystring,用戶欄位輸入的是hello的內容直\n",
    "    #192.168.114.10:5000?hello=sdjfydj\n",
    "    t = request.args.get('userId')\n",
    "    #轉成dict\n",
    "    jsonDict = {'userId':t}\n",
    "    #把dict轉成json,並回傳給用戶\n",
    "    return jsonify(jsonDict)\n",
    "\n",
    "if __name__ == \"__main__\":\n",
    "    app.run(host='0.0.0.0')"
   ]
  },
  {
   "cell_type": "code",
   "execution_count": null,
   "metadata": {},
   "outputs": [],
   "source": []
  }
 ],
 "metadata": {
  "kernelspec": {
   "display_name": "Python 3",
   "language": "python",
   "name": "python3"
  },
  "language_info": {
   "codemirror_mode": {
    "name": "ipython",
    "version": 3
   },
   "file_extension": ".py",
   "mimetype": "text/x-python",
   "name": "python",
   "nbconvert_exporter": "python",
   "pygments_lexer": "ipython3",
   "version": "3.7.1"
  }
 },
 "nbformat": 4,
 "nbformat_minor": 2
}
