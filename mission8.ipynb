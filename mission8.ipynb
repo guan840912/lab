{
 "cells": [
  {
   "cell_type": "code",
   "execution_count": null,
   "metadata": {},
   "outputs": [
    {
     "name": "stdout",
     "output_type": "stream",
     "text": [
      " * Serving Flask app \"__main__\" (lazy loading)\n",
      " * Environment: production\n",
      "   WARNING: Do not use the development server in a production environment.\n",
      "   Use a production WSGI server instead.\n",
      " * Debug mode: off\n"
     ]
    },
    {
     "name": "stderr",
     "output_type": "stream",
     "text": [
      " * Running on http://0.0.0.0:5000/ (Press CTRL+C to quit)\n",
      "192.168.114.1 - - [26/Dec/2018 09:24:24] \"POST / HTTP/1.1\" 200 -\n"
     ]
    }
   ],
   "source": [
    "\"\"\"\n",
    "\n",
    "flask simple post\n",
    "用戶可以對Server丟post，\n",
    "Server會找出 欄位為nickname的值進行操作\n",
    "\n",
    "\"\"\"\n",
    "#引用套件\n",
    "import boto3\n",
    "from pprint import pprint\n",
    "\n",
    "from flask import Flask, request, abort, jsonify\n",
    "#flask這個應用的啟動點\n",
    "app = Flask(__name__,static_url_path = \"/images\" , static_folder = \"./images/\" )\n",
    "#為這個啟動點增加訪問路徑'/' ,使用post方法訪問\n",
    "@app.route('/',methods=['POST'])\n",
    "def hello_world():\n",
    "    t =request.get_json()\n",
    "    \n",
    "   #取得用戶json的nickname,並且組成{'nickname':'xxxxxx'}\n",
    "    jsonDict = {'abc':t.get('nickname','little apple')}\n",
    "     #把結果轉成json,並回傳給用戶\n",
    "    return jsonify(jsonDict)\n",
    "\n",
    "if __name__ == \"__main__\":\n",
    "    app.run(host='0.0.0.0')\n",
    "\n",
    "\n",
    "    "
   ]
  },
  {
   "cell_type": "code",
   "execution_count": null,
   "metadata": {},
   "outputs": [],
   "source": [
    "    \n",
    "import os\n",
    "import shutil\n",
    "print(str(jsonDict))\n",
    "abc = open('body.txt','w')\n",
    " # 將資料寫入檔案\n",
    "abc.write(str(jsonDict))\n",
    "\n",
    "# 將檔案關閉\n",
    "abc.close()\n",
    "\n",
    "    \n",
    "s3resource = boto3.resource('s3')\n",
    "#使用s3客戶端上傳檔案(step1-s3-demo.txt)到s3的butket(iii-tutorial-v2下的student裡)裡\n",
    "uploadObject = s3resource.Object('iii-tutorial-v2', 'student9/body.txt').put(Body=open('./body.txt', 'rb'))\n",
    "pprint(uploadObject)"
   ]
  },
  {
   "cell_type": "code",
   "execution_count": null,
   "metadata": {},
   "outputs": [],
   "source": []
  }
 ],
 "metadata": {
  "kernelspec": {
   "display_name": "Python 3",
   "language": "python",
   "name": "python3"
  },
  "language_info": {
   "codemirror_mode": {
    "name": "ipython",
    "version": 3
   },
   "file_extension": ".py",
   "mimetype": "text/x-python",
   "name": "python",
   "nbconvert_exporter": "python",
   "pygments_lexer": "ipython3",
   "version": "3.7.1"
  }
 },
 "nbformat": 4,
 "nbformat_minor": 2
}
